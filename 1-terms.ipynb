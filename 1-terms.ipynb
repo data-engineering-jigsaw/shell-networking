{
 "cells": [
  {
   "cell_type": "markdown",
   "metadata": {},
   "source": [
    "# Networking Introduction"
   ]
  },
  {
   "cell_type": "markdown",
   "metadata": {},
   "source": [
    "### Terms"
   ]
  },
  {
   "cell_type": "markdown",
   "metadata": {},
   "source": [
    "### Single Machine Terminology"
   ]
  },
  {
   "cell_type": "markdown",
   "metadata": {},
   "source": [
    "* Port: \n",
    "    * An address on a single machine tied to a specific software.  Not a physical interface or location, but allows server to communicate using more than one application.\n",
    "\n",
    "* Firewall:\n",
    "    * Program that decides whether traffic coming into or going out from a server is allowed.  Creates rules of what type of traffic acceptable on which ports."
   ]
  },
  {
   "cell_type": "markdown",
   "metadata": {},
   "source": [
    "### MultiMachine Terminology "
   ]
  },
  {
   "cell_type": "markdown",
   "metadata": {},
   "source": [
    "* Connection: \n",
    "    * Pieces of related information transferred through a network.  Connection built before the data transfer.\n",
    "    \n",
    "* Packet\n",
    "    * The most basic unit transferred over the network.  These are envelopes that carry the data. Packets have information about the source and destination, timestamps, and the actual data being transferred.\n",
    "    \n",
    "* Network Interface:\n",
    "    * Any software interface to networking hardware.  May be associated with a physical device.\n",
    "   \n",
    "* Protocol: \n",
    "    * A set of rules and standards that define how devicces can communicate.  TCP, IPm UDP. "
   ]
  },
  {
   "cell_type": "markdown",
   "metadata": {},
   "source": [
    "### Connecting Network\n",
    "\n",
    "* WAN\n",
    "   * Wide Area Network: Usually meant to describe the Internet as a whole\n",
    "\n",
    "* VPN\n",
    "   * Virtual Private Network that conneccts LANS through the Internet maintaining privacy.  A means of connecting remote systems as if were on a security\n",
    "\n",
    "* LAN\n",
    "    * Loccal area network.  This is a network not publicly accessible to the greater internet.  A home network is an example.\n",
    "\n",
    "\n",
    "* NAT: Network Area Translation\n",
    "    * Translates requests coming into a routing server to the relevant decides it knows about through the LAN"
   ]
  },
  {
   "cell_type": "markdown",
   "metadata": {},
   "source": [
    "### Resources\n",
    "\n",
    "[Digital Ocean Terms](https://www.digitalocean.com/community/tutorials/an-introduction-to-networking-terminology-interfaces-and-protocols)"
   ]
  },
  {
   "cell_type": "code",
   "execution_count": null,
   "metadata": {},
   "outputs": [],
   "source": []
  }
 ],
 "metadata": {
  "kernelspec": {
   "display_name": "Python 3",
   "language": "python",
   "name": "python3"
  },
  "language_info": {
   "codemirror_mode": {
    "name": "ipython",
    "version": 3
   },
   "file_extension": ".py",
   "mimetype": "text/x-python",
   "name": "python",
   "nbconvert_exporter": "python",
   "pygments_lexer": "ipython3",
   "version": "3.9.1"
  }
 },
 "nbformat": 4,
 "nbformat_minor": 4
}
