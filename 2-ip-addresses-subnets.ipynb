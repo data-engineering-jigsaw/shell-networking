{
 "cells": [
  {
   "cell_type": "markdown",
   "metadata": {},
   "source": [
    "# Networks and Subnets"
   ]
  },
  {
   "cell_type": "markdown",
   "metadata": {},
   "source": [
    "### Introduction"
   ]
  },
  {
   "cell_type": "markdown",
   "metadata": {},
   "source": [
    "In this lesson, we'll take an additional look at ip addresses and see how it relates to networking.  In doing so, we'll see how a router connects to the Internet on our behalf, and learn about how the CIDR protocol is used to identify both an individual computer and a network.  Then we'll get into local area networks -- what we use at home --  and NAT tables, which are used by our router."
   ]
  },
  {
   "cell_type": "markdown",
   "metadata": {},
   "source": [
    "### IP Addresses and Networking"
   ]
  },
  {
   "cell_type": "markdown",
   "metadata": {},
   "source": [
    "Let's take another look at a sample ip address."
   ]
  },
  {
   "cell_type": "markdown",
   "metadata": {},
   "source": [
    "`192.168.0.5`"
   ]
  },
  {
   "cell_type": "markdown",
   "metadata": {},
   "source": [
    "As we saw, we can this ip addresss as representing four sequences of 8 bits, which we saw by translating the numbers above into binary."
   ]
  },
  {
   "cell_type": "markdown",
   "metadata": {},
   "source": [
    "`1100 0000 - 1010 1000 - 0000 0000 - 0000 0101`"
   ]
  },
  {
   "cell_type": "markdown",
   "metadata": {},
   "source": [
    "Now when say that a website is trying to identify our computer, it does so not just by identifying the specific computer but also **the network** that the computer is connected to.  Because of this, part of the ip address is dedicated to identifying **that network**."
   ]
  },
  {
   "cell_type": "markdown",
   "metadata": {},
   "source": [
    "So which part identifies the host computer and what part identifies the network?  Well that depends.  It could be the first 24 bits (meaning the first three sets of ones and zeros above), or just the first 20 bits that are used to identify the network and the rest for the host computer.\n",
    "\n",
    "In networking, exactly where the cutoff point is located is indicated by a `/` following the ip address.  For example: \n",
    "\n",
    "* `192.168.0.5/24`: means the first 24 bits identify the network (so here, only the portion `.5` identifies the host computer)\n",
    "* `192.168.3.5/16`: means that the first 16 bits identify the network (so then the portion `.3.5` identifies the host)"
   ]
  },
  {
   "cell_type": "markdown",
   "metadata": {},
   "source": [
    "This ip addressing protocol is called `CIDR`, and the numbers after the slash are called the **network prefix** (yes, it's called a prefix)."
   ]
  },
  {
   "cell_type": "markdown",
   "metadata": {},
   "source": [
    "> Notice that we use this same prefix on AWS when we specify what portion of the ip address should be from the requesting ip address. "
   ]
  },
  {
   "cell_type": "markdown",
   "metadata": {},
   "source": [
    "<img src=\"./ssh-ip-address.png\" width=\"90%\">"
   ]
  },
  {
   "cell_type": "markdown",
   "metadata": {},
   "source": [
    "> So above, with a `/32` we are saying that all 32 bits should match to ssh into the computer.  With a `/0` it means that none of the bits in the ip address need to match."
   ]
  },
  {
   "cell_type": "markdown",
   "metadata": {},
   "source": [
    "### Local Area Networks and NAT Tables"
   ]
  },
  {
   "cell_type": "markdown",
   "metadata": {},
   "source": [
    "Now when a request is made through the Internet, it is not directly made through the computer.  Instead all of the requests are made through the router.  All of the devices connected to that router make up a LAN -- or **local area network**."
   ]
  },
  {
   "cell_type": "markdown",
   "metadata": {},
   "source": [
    "> <img src=\"./local_area_network.png\" width=\"90%\">"
   ]
  },
  {
   "cell_type": "markdown",
   "metadata": {},
   "source": [
    "So every connected device in our home is part of an LAN, and the router makes a request to the Internet on behalf of each connected device.  When doing so, the router remaps each devices ip address to a single public ip address.   This public ip address is used for every device on the network."
   ]
  },
  {
   "cell_type": "markdown",
   "metadata": {},
   "source": [
    "<img src=\"./no-subnet.jpg\" width=\"60%\">"
   ]
  },
  {
   "cell_type": "markdown",
   "metadata": {},
   "source": [
    "This prevents a foreign computer from connecting to a computer on the network directly.  The individual device's ip address remains hidden -- and is thus called a **private ip address**.  The router maps the response to the private ip addresses through a **NAT table** (Network Area Translation).  How the NAT table works varies from router to router, and is not important for this course.  What is important, is that the NAT table allows an individual device to connect to the Internet through the router while blocking direct connections through the router to those instances."
   ]
  },
  {
   "cell_type": "markdown",
   "metadata": {},
   "source": [
    "### Subnets"
   ]
  },
  {
   "cell_type": "markdown",
   "metadata": {},
   "source": [
    " Now beyond the router sending data directly to connected device, the devices on the network can also be placed into different groups, called a **subnet**.  When we use a subnet, first the router determines the subnet, and then forwards the message to a device on that subnet.  "
   ]
  },
  {
   "cell_type": "markdown",
   "metadata": {},
   "source": [
    "<img src=\"./subnet.jpg\" width=\"40%\">"
   ]
  },
  {
   "cell_type": "markdown",
   "metadata": {},
   "source": [
    "### Summary"
   ]
  },
  {
   "cell_type": "code",
   "execution_count": null,
   "metadata": {},
   "outputs": [],
   "source": []
  },
  {
   "cell_type": "markdown",
   "metadata": {},
   "source": [
    "### Resources\n",
    "\n",
    "[IP, Subnets Digital Ocean](https://www.digitalocean.com/community/tutorials/understanding-ip-addresses-subnets-and-cidr-notation-for-networking#netmasks-and-subnets)"
   ]
  }
 ],
 "metadata": {
  "kernelspec": {
   "display_name": "Python 3",
   "language": "python",
   "name": "python3"
  },
  "language_info": {
   "codemirror_mode": {
    "name": "ipython",
    "version": 3
   },
   "file_extension": ".py",
   "mimetype": "text/x-python",
   "name": "python",
   "nbconvert_exporter": "python",
   "pygments_lexer": "ipython3",
   "version": "3.9.1"
  }
 },
 "nbformat": 4,
 "nbformat_minor": 4
}
