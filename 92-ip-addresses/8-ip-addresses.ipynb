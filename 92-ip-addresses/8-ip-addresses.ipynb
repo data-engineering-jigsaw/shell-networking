{
 "cells": [
  {
   "cell_type": "markdown",
   "metadata": {},
   "source": [
    "# IP Addresses and Ports"
   ]
  },
  {
   "cell_type": "markdown",
   "metadata": {},
   "source": [
    "### Introduction"
   ]
  },
  {
   "cell_type": "markdown",
   "metadata": {},
   "source": [
    "In this lesson, we'll learn about both ip addresses in ports.  IP addresses is how any computer connected to the Internet is identified.  As we'll see, this includes both our local computer and a computer hosting a website, like our EC2 machine.  We can use our knowledge of IP addresses to potentially restrict which computers can access our EC2 machine.  We'll also learn about network ports, which will allow to enable access to specific services on our EC2 machine, while preventing access to our entire computer."
   ]
  },
  {
   "cell_type": "markdown",
   "metadata": {},
   "source": [
    "### What are IP Addresses"
   ]
  },
  {
   "cell_type": "markdown",
   "metadata": {},
   "source": [
    "When we use the Internet, there are a lot of similarities to sending a letter through the mail.  When mailing a letter, we need to identify is where we are sending the letter to, and the receiver of the letter needs to know where to respond.  With the mail system, we do this with the mailing address address.\n",
    "\n",
    "It is the same with making a request to a website.  We need to identify the computer we are making the request to (the server).  And that computer needs to know where to send back this response.  For this, each computer connected to the Internet is given an ip address.\n",
    "\n",
    "A typical IP address looks like the following:"
   ]
  },
  {
   "cell_type": "markdown",
   "metadata": {},
   "source": [
    "`192.168.1.102`"
   ]
  },
  {
   "cell_type": "markdown",
   "metadata": {},
   "source": [
    "### Identifying the IP address"
   ]
  },
  {
   "cell_type": "markdown",
   "metadata": {},
   "source": [
    "We can see the ip address of a website, by going to our terminal and using `ping`.  For example, let's find the IP address of Google."
   ]
  },
  {
   "cell_type": "markdown",
   "metadata": {},
   "source": [
    "`ping www.google.com`"
   ]
  },
  {
   "cell_type": "markdown",
   "metadata": {},
   "source": [
    "<img src=\"./ping-google.png\" width=\"60%\">"
   ]
  },
  {
   "cell_type": "markdown",
   "metadata": {},
   "source": [
    "So we can see from the above that google's ip address is 172.217.10.36.  \n",
    "\n",
    "> And you can confirm that by typing the number (instead of google.com) inside of a browser."
   ]
  },
  {
   "cell_type": "markdown",
   "metadata": {},
   "source": [
    "We can also see the IP address of our computer.  We can do this by going to the terminal and typing `ipconfig getifaddr en0`:  "
   ]
  },
  {
   "cell_type": "code",
   "execution_count": 5,
   "metadata": {},
   "outputs": [
    {
     "name": "stdout",
     "output_type": "stream",
     "text": [
      "192.168.1.10\n"
     ]
    }
   ],
   "source": [
    "!ipconfig getifaddr en0\n",
    "\n",
    "# 192.168.1.10"
   ]
  },
  {
   "cell_type": "markdown",
   "metadata": {},
   "source": [
    "So as we can see that both the servers like Google, and our local computers connected to the Internet are given an ip address.  This is what allows us to make a request for information, and for a website like Google to send a response."
   ]
  },
  {
   "cell_type": "markdown",
   "metadata": {},
   "source": [
    "### Components of an IP Address"
   ]
  },
  {
   "cell_type": "markdown",
   "metadata": {},
   "source": [
    "Now there are two versions of IP addresses generally used today.  IPv4 is what the majority of systems support, while IPv6 is increasing in popularity.  Essentially, there are so many internet-connected devices that we were running out of IPv4 addresses.  "
   ]
  },
  {
   "cell_type": "markdown",
   "metadata": {},
   "source": [
    "A typical IPv4 address looks like the following:"
   ]
  },
  {
   "cell_type": "markdown",
   "metadata": {},
   "source": [
    "`192.168.0.5`"
   ]
  },
  {
   "cell_type": "markdown",
   "metadata": {},
   "source": [
    "The important part is that there are four segments -- separated by a dot -- and each segment represents 8 bits.  What is a bit?  \n",
    "\n",
    "Well it's easier to answer that if we represent the ip address in binary.\n",
    "\n",
    "`1100 0000 - 1010 1000 - 0000 0000 - 0000 0101`"
   ]
  },
  {
   "cell_type": "markdown",
   "metadata": {},
   "source": [
    "So above is now a binary version of the above ip address.  Notice that just like our original version, there are four segments of the address.  And the eight bits are the eight characters of 1 or 0 in each segments.\n",
    "\n",
    "> We don't need to go too deep into binary, but we notice that the last segment, the number 5 is represented by the digits `0000 - 0101`.  This is because, going from right to left, there is one 1, zero 2s and one fours to equal five."
   ]
  },
  {
   "cell_type": "markdown",
   "metadata": {},
   "source": [
    "### A bit about ports"
   ]
  },
  {
   "cell_type": "markdown",
   "metadata": {},
   "source": [
    "Now we know that when a user makes a request to our website, they are doing so by specifying the IP address of the computer that hosts that website.  But we may not want to allow the user to access every service on the computer.  So how do we allow access to just one of these services without allowing access to the others?\n",
    "\n",
    "It turns out that each service (really a process) in Linux can be accessed a specific location called a **port**.   This port is specified when we access a service.  For example, when we try to connect to our local flask application, by default this service can be accessed at port 5000."
   ]
  },
  {
   "cell_type": "markdown",
   "metadata": {},
   "source": [
    "<img src=\"./flask-running.png\" width=\"60%\">"
   ]
  },
  {
   "cell_type": "markdown",
   "metadata": {},
   "source": [
    "And when we access Google's website, we are really accessing by the ip address followed by port 80.  So while we can access Google's website by visiting http://172.217.10.36:80, we cannot do so if we try to access a different service other than website by visiting a different port like http://172.217.10.36:800.  This is because Google only us access to the port 80, which is where the website is accessible."
   ]
  },
  {
   "cell_type": "markdown",
   "metadata": {},
   "source": [
    "With AWS, we also specify which ports, and thus which services we expose to the outside world.\n",
    "\n",
    "> Take a look at the `Port Range` value below."
   ]
  },
  {
   "cell_type": "markdown",
   "metadata": {},
   "source": [
    "<img src=\"./ssh-ip-address.png\" width=\"100%\">"
   ]
  },
  {
   "cell_type": "markdown",
   "metadata": {},
   "source": [
    "There we are allowing access to the AWS machine at port 22, which is the port associated with SSH.  If your curious, below is a list of services and the commonly assocciated port numbers [from Wikipedia](https://en.wikipedia.org/wiki/Port_(computer_networking)#Common_port_numbers)."
   ]
  },
  {
   "cell_type": "markdown",
   "metadata": {},
   "source": [
    "<img src=\"./common-ports.png\" width=\"50%\">"
   ]
  },
  {
   "cell_type": "markdown",
   "metadata": {},
   "source": [
    "And if we want to see a list of the ports associated with the running services on our machine, we can see them through the `top` program. "
   ]
  },
  {
   "cell_type": "markdown",
   "metadata": {},
   "source": [
    "> Notice that the 7th column from the right is responsible for listing the ports."
   ]
  },
  {
   "cell_type": "markdown",
   "metadata": {},
   "source": [
    "<img src=\"./top_port.png\" width=\"90%\">"
   ]
  },
  {
   "cell_type": "markdown",
   "metadata": {},
   "source": [
    "### Summary"
   ]
  },
  {
   "cell_type": "markdown",
   "metadata": {},
   "source": [
    "In this lesson, we gained a deeper understanding of ip addresses.  An ip address is used to identify all computers connected to the Internet.  An IP address identifies consists of both a network ID, which identifies *the network* where a connected device can be found, and the host id which identifies a particular computer.  When we set up which machines can connect to our EC2 machine, we can do so through the ip address.  \n",
    "\n",
    "Then we learned about ports, which are assigned to each service (or process) running on our computer.  We can then use this to only allow external access to specific certain ports, and thus specific services."
   ]
  }
 ],
 "metadata": {
  "kernelspec": {
   "display_name": "Python 3",
   "language": "python",
   "name": "python3"
  },
  "language_info": {
   "codemirror_mode": {
    "name": "ipython",
    "version": 3
   },
   "file_extension": ".py",
   "mimetype": "text/x-python",
   "name": "python",
   "nbconvert_exporter": "python",
   "pygments_lexer": "ipython3",
   "version": "3.9.1"
  }
 },
 "nbformat": 4,
 "nbformat_minor": 4
}
